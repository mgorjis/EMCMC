{
 "cells": [
  {
   "cell_type": "code",
   "execution_count": 8,
   "metadata": {
    "collapsed": false
   },
   "outputs": [],
   "source": []
  },
  {
   "cell_type": "code",
   "execution_count": 421,
   "metadata": {
    "collapsed": true
   },
   "outputs": [],
   "source": [
    "import numpy as np\n",
    "import matplotlib.pylab as plt\n",
    "%matplotlib inline \n",
    "from scipy.stats import multivariate_normal\n"
   ]
  },
  {
   "cell_type": "code",
   "execution_count": 580,
   "metadata": {
    "collapsed": false
   },
   "outputs": [
    {
     "data": {
      "image/png": "[encoded data removed]",
      "text/plain": [
       "<matplotlib.figure.Figure at 0x1b750ad0>"
      ]
     },
     "metadata": {},
     "output_type": "display_data"
    }
   ],
   "source": [
    "n_samples=500\n",
    "N=20\n",
    "\n",
    "#MM=[[10,-30],[3,-9],[-20,6],[30,20],[15,20],[0,20],[-20,-12],[30,1],[25,-15],[40,-30]]\n",
    "#CC=np.r_[[[1,0],[0,1]],[[1,0],[0,1]], [[1,0],[0,1]],[[1,0],[0,1]],[[1,0],[0,1]],[[1,0],[0,1]],[[1,0],[0,1]]\n",
    "        # ,[[1,0],[0,1]],[[1,0],[0,1]],[[1,0],[0,1]]]\n",
    "    \n",
    "MM=[[2.673, 9.249], [6.621, 3.819],[2.519, 6.794],[0.860, 7.400],[2.623, 1.803],[4.046, 6.832],\n",
    "    [1.341, 7.840],[8.615,6.727],[7.866, 6.970],[2.055, 0.702],[6.259, 8.491],[1.607, 1.043],[8.318, 3.637],\n",
    "    [0.789, 5.764],[4.054, 7.673], [1.745, 5.988],[8.091, 6.792],[1.759, 6.757],[2.451, 1.502],[7.351, 5.203]]  \n",
    "CC=np.kron(np.ones((1,20)),[[1,0],[0,1]])\n",
    "\n",
    "#for i in range(0,N):\n",
    "    #CC[2*i:2*i+2,:]=1*np.dot(CC[2*i:2*i+2,:],CC[2*i:2*i+2,:].T)\n",
    "\n",
    "#a=np.abs(np.random.randn(N))\n",
    "#gamma=a/np.sum(a)\n",
    "gamma=1/20*np.ones(20)\n",
    "\n",
    "\n",
    "x=np.empty([0,2])\n",
    "for i in range(0,N):\n",
    "    #C=3*np.random.randn(2, 2)\n",
    "    #C=np.dot(C,C.T)\n",
    "    #M=5*np.random.randn(1, 2)\n",
    "    #C=CC[2*i:2*i+2,:]\n",
    "    C=[[.01,0],[0,.01]]\n",
    "    M=MM[i]\n",
    "    x=np.r_[x, gamma[i]* np.dot(np.random.randn(n_samples, 2), C) + M]  #\n",
    "\n",
    "plt.scatter(x[:,0],x[:,1])\n",
    "\n",
    "\n",
    "Xmin=min(x[:,0])\n",
    "Xmax=max(x[:,0])\n",
    "Ymin=min(x[:,1])\n",
    "Ymax=max(x[:,1])"
   ]
  },
  {
   "cell_type": "code",
   "execution_count": 594,
   "metadata": {
    "collapsed": true
   },
   "outputs": [],
   "source": [
    "Xmin,Xmax,Ymin,Ymax=0,10,0,10  #-30,50,-30,30\n",
    "\n"
   ]
  },
  {
   "cell_type": "code",
   "execution_count": 581,
   "metadata": {
    "collapsed": false
   },
   "outputs": [],
   "source": [
    "def Calc_Likelihood(y,N):\n",
    "    S=0\n",
    "    for i in range(0,N):\n",
    "        C=[[.01,0],[0,.01]]\n",
    "        #CC[2*i:2*i+2,:]\n",
    "        M=MM[i]\n",
    "        S=S+ gamma[i]* multivariate_normal.pdf(y, mean=M, cov=C)\n",
    "    return S"
   ]
  },
  {
   "cell_type": "code",
   "execution_count": 538,
   "metadata": {
    "collapsed": false
   },
   "outputs": [
    {
     "data": {
      "text/plain": [
       "[<matplotlib.lines.Line2D at 0x15a66570>]"
      ]
     },
     "execution_count": 538,
     "metadata": {},
     "output_type": "execute_result"
    },
    {
     "data": {
      "image/png": "[encoded data removed]",
      "text/plain": [
       "<matplotlib.figure.Figure at 0x182e4610>"
      ]
     },
     "metadata": {},
     "output_type": "display_data"
    }
   ],
   "source": [
    "S=[]\n",
    "for i in np.arange(0,10,.1):\n",
    "    a=Calc_Likelihood([i,6],N)\n",
    "    S.append(a)\n",
    "plt.plot(np.arange(0,10,.1),S)"
   ]
  },
  {
   "cell_type": "code",
   "execution_count": 354,
   "metadata": {
    "collapsed": false
   },
   "outputs": [],
   "source": [
    "## MCMC"
   ]
  },
  {
   "cell_type": "code",
   "execution_count": 502,
   "metadata": {
    "collapsed": false
   },
   "outputs": [],
   "source": [
    "import random\n",
    "def binary_to_int(X,L,Xmin,Xmax,Ymin,Ymax):\n",
    "    a=''\n",
    "    for i in range(0,L):\n",
    "        a=a+str(int(X[i]))\n",
    "    a=int(a, 2)\n",
    "    a= Xmin + ((Xmax-Xmin)/(2**L-1)) *a \n",
    "    \n",
    "    \n",
    "    b=''\n",
    "    for i in range(L,2*L):\n",
    "        b=b+str(int(X[i]))\n",
    "    b=int(b, 2)\n",
    "    b= Ymin + ((Ymax-Ymin)/(2**L-1)) *b \n",
    "    return a,b"
   ]
  },
  {
   "cell_type": "code",
   "execution_count": 411,
   "metadata": {
    "collapsed": false
   },
   "outputs": [],
   "source": [
    "def mutate(X,L):\n",
    "    Xm=X[:]\n",
    "    import random\n",
    "    bit=random.randint(0,2*L-1)  #***\n",
    "    Xm[bit]=abs(1-Xm[bit])     #***\n",
    "    \n",
    "    #for bit in range(0,2*L):\n",
    "        #if np.random.uniform()<0.5:\n",
    "            #Xm[bit]=abs(1-Xm[bit])\n",
    "    return Xm"
   ]
  },
  {
   "cell_type": "code",
   "execution_count": 604,
   "metadata": {
    "collapsed": false
   },
   "outputs": [
    {
     "name": "stdout",
     "output_type": "stream",
     "text": [
      "0.70728\n"
     ]
    },
    {
     "data": {
      "text/plain": [
       "<matplotlib.collections.PathCollection at 0xef744b0>"
      ]
     },
     "execution_count": 604,
     "metadata": {},
     "output_type": "execute_result"
    },
    {
     "data": {
      "image/png": "[encoded data removed]",
      "text/plain": [
       "<matplotlib.figure.Figure at 0x17fe5910>"
      ]
     },
     "metadata": {},
     "output_type": "display_data"
    }
   ],
   "source": [
    "L=20\n",
    "naccept = 0\n",
    "niters=25000\n",
    "\n",
    "SamplesX=[]\n",
    "SamplesY=[]\n",
    "X = [random.randint(0, 1) for i in range(2*L)]\n",
    "\n",
    "for i in range(0,niters):\n",
    "    X_decimal=binary_to_int(X,L,Xmin,Xmax,Ymin,Ymax)\n",
    "    fx=Calc_Likelihood(X_decimal,N)\n",
    "    \n",
    "    Xm=mutate(copy.copy(X),L)\n",
    "    Xm_decimal=binary_to_int(Xm,L,Xmin,Xmax,Ymin,Ymax)\n",
    "    fy=Calc_Likelihood(Xm_decimal,N)\n",
    "    #print(Xm_decimal)\n",
    "    rho = min(1, fy/fx)\n",
    "    u = np.random.uniform()\n",
    "    \n",
    "    if u < rho:\n",
    "        naccept += 1\n",
    "        X = Xm\n",
    "        SamplesX.append(Xm_decimal[0])\n",
    "        SamplesY.append(Xm_decimal[1])\n",
    "    else:\n",
    "        SamplesX.append(X_decimal[0])\n",
    "        SamplesY.append(X_decimal[1])\n",
    "    \n",
    "print(naccept/niters)\n",
    "\n",
    "plt.scatter(SamplesX[100:],SamplesY[100:])\n",
    "#plt.scatter(x[:,0],x[:,1])\n",
    "#plt.ylim(Ymin, 1.5*Ymax)\n",
    "#plt.xlim(1.5*Xmin, 1.5*Xmax)"
   ]
  },
  {
   "cell_type": "code",
   "execution_count": 468,
   "metadata": {
    "collapsed": false
   },
   "outputs": [],
   "source": [
    "# Multiple chains"
   ]
  },
  {
   "cell_type": "code",
   "execution_count": 612,
   "metadata": {
    "collapsed": false
   },
   "outputs": [
    {
     "name": "stdout",
     "output_type": "stream",
     "text": [
      "0.69872\n"
     ]
    },
    {
     "data": {
      "text/plain": [
       "<matplotlib.collections.PathCollection at 0xef46f50>"
      ]
     },
     "execution_count": 612,
     "metadata": {},
     "output_type": "execute_result"
    },
    {
     "data": {
      "image/png": "[encoded data removed]",
      "text/plain": [
       "<matplotlib.figure.Figure at 0x199c73f0>"
      ]
     },
     "metadata": {},
     "output_type": "display_data"
    }
   ],
   "source": [
    "PopSize=50\n",
    "NumGen=25000\n",
    "SamplesX=[]\n",
    "SamplesY=[]\n",
    "Pop=np.empty([PopSize,2*L])\n",
    "#Fitness=np.empty(PopSize)\n",
    "naccept=0\n",
    "\n",
    "for i in range(0,PopSize):\n",
    "    Pop[i] =[random.randint(0, 1) for i in range(2*L)]\n",
    "    #X_decimal=binary_to_int(Pop[i],L,Xmin,Xmax,Ymin,Ymax)\n",
    "    #Fitness[i]=Calc_Likelihood(X_decimal)\n",
    "\n",
    "for i in range(0,NumGen):\n",
    "    index=random.randint(0,PopSize-1)\n",
    "    \n",
    "    X=Pop[index] \n",
    "\n",
    "    X_decimal=binary_to_int(X,L,Xmin,Xmax,Ymin,Ymax)\n",
    "    fx=Calc_Likelihood(X_decimal,N)\n",
    "    \n",
    "    Xm=mutate(copy.copy(X),L)\n",
    "    Xm_decimal=binary_to_int(Xm,L,Xmin,Xmax,Ymin,Ymax)\n",
    "    fy=Calc_Likelihood(Xm_decimal,N)\n",
    "    \n",
    "    rho = min(1, fy/fx)\n",
    "    u = np.random.uniform()\n",
    "    \n",
    "    if u < rho:\n",
    "        naccept += 1\n",
    "        Pop[index] = Xm \n",
    "        #Fitness[index]=fy\n",
    "        SamplesX.append(Xm_decimal[0])\n",
    "        SamplesY.append(Xm_decimal[1])\n",
    "    else:\n",
    "\n",
    "        SamplesX.append(X_decimal[0])\n",
    "        SamplesY.append(X_decimal[1])\n",
    "\n",
    "        \n",
    "print(naccept/NumGen)\n",
    "\n",
    "plt.scatter(SamplesX[100:],SamplesY[100:])"
   ]
  },
  {
   "cell_type": "code",
   "execution_count": 610,
   "metadata": {
    "collapsed": false
   },
   "outputs": [
    {
     "name": "stdout",
     "output_type": "stream",
     "text": [
      "0.2434\n"
     ]
    },
    {
     "data": {
      "text/plain": [
       "<matplotlib.collections.PathCollection at 0xef11b90>"
      ]
     },
     "execution_count": 610,
     "metadata": {},
     "output_type": "execute_result"
    },
    {
     "data": {
      "image/png": "[encoded data removed]",
      "text/plain": [
       "<matplotlib.figure.Figure at 0xef11b50>"
      ]
     },
     "metadata": {},
     "output_type": "display_data"
    }
   ],
   "source": [
    "#E-MCMC\n",
    "\n",
    "PopSize=50\n",
    "NumGen=25000\n",
    "SamplesX=[]\n",
    "SamplesY=[]\n",
    "Pop=np.empty([PopSize,2*L])\n",
    "naccept=0\n",
    "\n",
    "for i in range(0,PopSize):\n",
    "    Pop[i] =[random.randint(0, 1) for i in range(2*L)]\n",
    "    \n",
    "    \n",
    "for n in range(0,NumGen):\n",
    "    \n",
    "    # SELECT TWO PARENTS RANDOMLY\n",
    "    \n",
    "    index1=random.randint(0,PopSize-1)\n",
    "    index2=random.randint(0,PopSize-1)\n",
    "    \n",
    "    Parent1=Pop[index1]\n",
    "    Parent1_decimal=binary_to_int(Parent1,L,Xmin,Xmax,Ymin,Ymax)\n",
    "    f_Parent1=Calc_Likelihood(Parent1_decimal,N) \n",
    "    \n",
    "    Parent2=Pop[index2]\n",
    "    Parent2_decimal=binary_to_int(Parent2,L,Xmin,Xmax,Ymin,Ymax)\n",
    "    f_Parent2=Calc_Likelihood(Parent2_decimal,N)\n",
    "    \n",
    "    # Do Crossover & Mutation\n",
    "    \n",
    "    CrossPoint=random.choice(range(0,2*L))\n",
    "    Child1=np.hstack([Parent1[0:CrossPoint],Parent2[CrossPoint:]])\n",
    "    Child1=mutate(copy.copy(Child1),L)\n",
    "    Child1_decimal=binary_to_int(Child1,L,Xmin,Xmax,Ymin,Ymax)\n",
    "    f_Child1=Calc_Likelihood(Child1_decimal,N) \n",
    "    \n",
    "    Child2=np.hstack([Parent2[0:CrossPoint],Parent1[CrossPoint:]])\n",
    "    Child2=mutate(copy.copy(Child2),L)\n",
    "    Child2_decimal=binary_to_int(Child2,L,Xmin,Xmax,Ymin,Ymax)\n",
    "    f_Child2=Calc_Likelihood(Child2_decimal,N)\n",
    "    \n",
    "    fy=f_Child1 *  f_Child2\n",
    "    fx=f_Parent1 * f_Parent2\n",
    "    \n",
    "    rho = min(1, fy/fx)\n",
    "    u = np.random.uniform()\n",
    "    \n",
    "    if u < rho:  # replace parents with childs\n",
    "\n",
    "        Pop[index1]=Child1\n",
    "        Pop[index2]=Child2\n",
    "        naccept += 1\n",
    "        SamplesX.append(Child1_decimal[0])\n",
    "        SamplesY.append(Child1_decimal[1])\n",
    "        \n",
    "        SamplesX.append(Child2_decimal[0])\n",
    "        SamplesY.append(Child2_decimal[1])\n",
    "        \n",
    "    else:\n",
    "\n",
    "        SamplesX.append(Parent1_decimal[0])\n",
    "        SamplesY.append(Parent1_decimal[1])\n",
    "        \n",
    "        SamplesX.append(Parent2_decimal[0])\n",
    "        SamplesY.append(Parent2_decimal[1])  \n",
    "\n",
    "\n",
    "    \n",
    "print(naccept/NumGen)\n",
    "plt.scatter(SamplesX[100:],SamplesY[100:])   "
   ]
  },
  {
   "cell_type": "code",
   "execution_count": null,
   "metadata": {
    "collapsed": true
   },
   "outputs": [],
   "source": [
    "# Mixture"
   ]
  },
  {
   "cell_type": "code",
   "execution_count": 609,
   "metadata": {
    "collapsed": false
   },
   "outputs": [
    {
     "name": "stderr",
     "output_type": "stream",
     "text": [
      "c:\\users\\mohammad\\appdata\\local\\programs\\python\\python35-32\\lib\\site-packages\\ipykernel\\__main__.py:49: RuntimeWarning: invalid value encountered in double_scalars\n"
     ]
    },
    {
     "name": "stdout",
     "output_type": "stream",
     "text": [
      "0.61896\n"
     ]
    },
    {
     "data": {
      "text/plain": [
       "<matplotlib.collections.PathCollection at 0x1b0e81f0>"
      ]
     },
     "execution_count": 609,
     "metadata": {},
     "output_type": "execute_result"
    },
    {
     "data": {
      "image/png": "[encoded data removed]",
      "text/plain": [
       "<matplotlib.figure.Figure at 0xef7b7f0>"
      ]
     },
     "metadata": {},
     "output_type": "display_data"
    }
   ],
   "source": [
    "#E-MCMC\n",
    "\n",
    "PopSize=50\n",
    "NumGen=50000\n",
    "SamplesX=[]\n",
    "SamplesY=[]\n",
    "Pop=np.empty([PopSize,2*L])\n",
    "naccept=0\n",
    "pm=2/3\n",
    "pc=1/3\n",
    "\n",
    "for i in range(0,PopSize):\n",
    "    Pop[i] =[random.randint(0, 1) for i in range(2*L)]\n",
    "    \n",
    "    \n",
    "for n in range(0,NumGen):\n",
    "    \n",
    "    # SELECT TWO PARENTS RANDOMLY\n",
    "    \n",
    "    if np.random.uniform()<pc:  # Do Crossover\n",
    "    \n",
    "        index1=random.randint(0,PopSize-1)\n",
    "        index2=random.randint(0,PopSize-1)\n",
    "    \n",
    "        Parent1=Pop[index1]\n",
    "        Parent1_decimal=binary_to_int(Parent1,L,Xmin,Xmax,Ymin,Ymax)\n",
    "        f_Parent1=Calc_Likelihood(Parent1_decimal,N) \n",
    "    \n",
    "        Parent2=Pop[index2]\n",
    "        Parent2_decimal=binary_to_int(Parent2,L,Xmin,Xmax,Ymin,Ymax)\n",
    "        f_Parent2=Calc_Likelihood(Parent2_decimal,N)\n",
    "    \n",
    "        #Child1=Parent1\n",
    "        #Child2=Parent2\n",
    "   \n",
    "        CrossPoint=random.choice(range(0,2*L))\n",
    "        Child1=np.hstack([Parent1[0:CrossPoint],Parent2[CrossPoint:]])\n",
    "        Child2=np.hstack([Parent2[0:CrossPoint],Parent1[CrossPoint:]])\n",
    "        \n",
    "        Child1_decimal=binary_to_int(Child1,L,Xmin,Xmax,Ymin,Ymax)\n",
    "        f_Child1=Calc_Likelihood(Child1_decimal,N)\n",
    "        \n",
    "        Child2_decimal=binary_to_int(Child2,L,Xmin,Xmax,Ymin,Ymax)\n",
    "        f_Child2=Calc_Likelihood(Child2_decimal,N)\n",
    "        \n",
    "        fy=f_Child1 *  f_Child2\n",
    "        fx=f_Parent1 * f_Parent2\n",
    "        \n",
    "        rho = min(1, fy/fx)\n",
    "        u = np.random.uniform()\n",
    "        \n",
    "        if u < rho:  # replace parents with childs\n",
    "\n",
    "            Pop[index1]=Child1\n",
    "            Pop[index2]=Child2\n",
    "            naccept += 1\n",
    "            SamplesX.append(Child1_decimal[0])\n",
    "            SamplesY.append(Child1_decimal[1])\n",
    "        \n",
    "            SamplesX.append(Child2_decimal[0])\n",
    "            SamplesY.append(Child2_decimal[1])\n",
    "        \n",
    "        else:\n",
    "\n",
    "            SamplesX.append(Parent1_decimal[0])\n",
    "            SamplesY.append(Parent1_decimal[1])\n",
    "        \n",
    "            SamplesX.append(Parent2_decimal[0])\n",
    "            SamplesY.append(Parent2_decimal[1])  \n",
    "\n",
    "        \n",
    "        \n",
    "    if np.random.uniform()<pm:\n",
    "        \n",
    "        index=random.randint(0,PopSize-1)\n",
    "        \n",
    "        Parent=Pop[index]\n",
    "        Parent_decimal=binary_to_int(Parent,L,Xmin,Xmax,Ymin,Ymax)\n",
    "        f_Parent=Calc_Likelihood(Parent_decimal,N) \n",
    "        \n",
    "        Child=mutate(copy.copy(Parent),L)\n",
    "        Child_decimal=binary_to_int(Child,L,Xmin,Xmax,Ymin,Ymax)\n",
    "        f_Child=Calc_Likelihood(Child_decimal,N)\n",
    "             \n",
    "        fy=f_Child\n",
    "        fx=f_Parent\n",
    "        \n",
    "        rho = min(1, fy/fx)\n",
    "        u = np.random.uniform()\n",
    "        \n",
    "        if u < rho:  # replace parents with childs\n",
    "\n",
    "            Pop[index]=Child\n",
    "            naccept += 1\n",
    "            SamplesX.append(Child_decimal[0])\n",
    "            SamplesY.append(Child_decimal[1])\n",
    "   \n",
    "        else:\n",
    "\n",
    "            SamplesX.append(Parent_decimal[0])\n",
    "            SamplesY.append(Parent_decimal[1])\n",
    "    \n",
    "\n",
    "\n",
    "    \n",
    "print(naccept/NumGen)\n",
    "plt.scatter(SamplesX[100:],SamplesY[100:])  "
   ]
  },
  {
   "cell_type": "code",
   "execution_count": 431,
   "metadata": {
    "collapsed": true
   },
   "outputs": [],
   "source": [
    "## XOR"
   ]
  },
  {
   "cell_type": "code",
   "execution_count": 459,
   "metadata": {
    "collapsed": false
   },
   "outputs": [],
   "source": [
    "def XorMutation(X,Y,Z):\n",
    "    A = [int(y!=z) for (y, z) in zip(Y, Z)]\n",
    "    B=  [int(x!=a) for (x, a) in zip(X, A)]\n",
    "    return B"
   ]
  },
  {
   "cell_type": "code",
   "execution_count": 611,
   "metadata": {
    "collapsed": false
   },
   "outputs": [
    {
     "name": "stdout",
     "output_type": "stream",
     "text": [
      "0.43124\n"
     ]
    },
    {
     "data": {
      "text/plain": [
       "<matplotlib.collections.PathCollection at 0x1b482a50>"
      ]
     },
     "execution_count": 611,
     "metadata": {},
     "output_type": "execute_result"
    },
    {
     "data": {
      "image/png": "[encoded data removed]",
      "text/plain": [
       "<matplotlib.figure.Figure at 0x1b4827b0>"
      ]
     },
     "metadata": {},
     "output_type": "display_data"
    }
   ],
   "source": [
    "#E-MCMC xor\n",
    "\n",
    "PopSize=50\n",
    "NumGen=50000\n",
    "SamplesX=[]\n",
    "SamplesY=[]\n",
    "Pop=np.empty([PopSize,2*L])\n",
    "naccept=0\n",
    "pm=1/2\n",
    "pc=1/2\n",
    "\n",
    "for i in range(0,PopSize):\n",
    "    Pop[i] =[random.randint(0, 1) for i in range(2*L)]\n",
    "    \n",
    "    \n",
    "for n in range(0,NumGen):\n",
    "    \n",
    "    # SELECT TWO PARENTS RANDOMLY\n",
    "    \n",
    "    if np.random.uniform()<pc:  # Do Crossover\n",
    "    \n",
    "        index1=random.randint(0,PopSize-1)\n",
    "        index2=random.randint(0,PopSize-1)\n",
    "        index3=random.randint(0,PopSize-1)\n",
    "        \n",
    "        Parent1=Pop[index1]\n",
    "        Parent2=Pop[index2]\n",
    "        Parent3=Pop[index3]\n",
    "        \n",
    "        Parent1_decimal=binary_to_int(Parent1,L,Xmin,Xmax,Ymin,Ymax)\n",
    "        f_Parent1=Calc_Likelihood(Parent1_decimal,N) \n",
    "    \n",
    "        Child1=XorMutation(Parent1,Parent2,Parent3)    \n",
    "        Child1_decimal=binary_to_int(Child1,L,Xmin,Xmax,Ymin,Ymax)\n",
    "        f_Child1=Calc_Likelihood(Child1_decimal,N)\n",
    "        \n",
    "        \n",
    "        fy=f_Child1\n",
    "        fx=f_Parent1\n",
    "        \n",
    "        rho = min(1, fy/fx)\n",
    "        u = np.random.uniform()\n",
    "        \n",
    "        if u < rho:  # replace parents with childs\n",
    "\n",
    "            Pop[index1]=Child1\n",
    "            naccept += 1\n",
    "            SamplesX.append(Child1_decimal[0])\n",
    "            SamplesY.append(Child1_decimal[1])\n",
    "   \n",
    "        else:\n",
    "\n",
    "            SamplesX.append(Parent1_decimal[0])\n",
    "            SamplesY.append(Parent1_decimal[1])\n",
    "          \n",
    "\n",
    "        \n",
    "        \n",
    "    if np.random.uniform()<pm:\n",
    "        \n",
    "        index=random.randint(0,PopSize-1)\n",
    "        \n",
    "        Parent=Pop[index]\n",
    "        Parent_decimal=binary_to_int(Parent,L,Xmin,Xmax,Ymin,Ymax)\n",
    "        f_Parent=Calc_Likelihood(Parent_decimal,N) \n",
    "        \n",
    "        Child=mutate(copy.copy(Parent),L)\n",
    "        Child_decimal=binary_to_int(Child,L,Xmin,Xmax,Ymin,Ymax)\n",
    "        f_Child=Calc_Likelihood(Child_decimal,N)\n",
    "             \n",
    "        fy=f_Child\n",
    "        fx=f_Parent\n",
    "        \n",
    "        rho = min(1, fy/fx)\n",
    "        u = np.random.uniform()\n",
    "        \n",
    "        if u < rho:  # replace parents with childs\n",
    "\n",
    "            Pop[index]=Child\n",
    "            naccept += 1\n",
    "            SamplesX.append(Child_decimal[0])\n",
    "            SamplesY.append(Child_decimal[1])\n",
    "   \n",
    "        else:\n",
    "\n",
    "            SamplesX.append(Parent_decimal[0])\n",
    "            SamplesY.append(Parent_decimal[1])\n",
    "    \n",
    "\n",
    "\n",
    "    \n",
    "print(naccept/NumGen)\n",
    "plt.scatter(SamplesX[100:],SamplesY[100:]) "
   ]
  },
  {
   "cell_type": "code",
   "execution_count": null,
   "metadata": {
    "collapsed": true
   },
   "outputs": [],
   "source": []
  }
 ],
 "metadata": {
  "kernelspec": {
   "display_name": "Python 3",
   "language": "python",
   "name": "python3"
  }
 },
 "nbformat": 4,
 "nbformat_minor": 0
}
