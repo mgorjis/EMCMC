{
 "cells": [
  {
   "cell_type": "code",
   "execution_count": 1,
   "metadata": {
    "collapsed": false
   },
   "outputs": [],
   "source": [
    "%load_ext autoreload\n",
    "%autoreload 2\n",
    "\n",
    "import numpy as np\n",
    "import random\n",
    "import matplotlib.pyplot as plt\n",
    "%matplotlib inline\n",
    "import copy\n",
    "\n",
    "from UtilsGA import *\n",
    "from UtilsMCMC import *"
   ]
  },
  {
   "cell_type": "code",
   "execution_count": 196,
   "metadata": {
    "collapsed": false
   },
   "outputs": [],
   "source": [
    "# Create knoweldgebase\n",
    "\n",
    "S=5\n",
    "tau=0.9\n",
    "eps=0.2\n",
    "\n",
    "ListOfEntities,ListOfEvents,PrPos=CreateKB(S)\n",
    "PrPos[PrPos>=0.5]=tau   # randomly set some of the probabilities equal to tau\n",
    "PrPos[PrPos<0.5]=eps    # set the remaining probabilities as eps\n",
    "    \n",
    "Ideal_probabilities=np.reshape(PrPos,[1,S*S])\n",
    "  # we expect that the ideal network is the one with links of probilities of \\tau\n",
    "IdealNetwork=np.array(Ideal_probabilities>=tau).astype(int)\n",
    "IdealNetwork=Diag_zero(IdealNetwork[0],S)\n",
    "IdealPosterior=Calc_likelihood(IdealNetwork,PrPos,S)\n"
   ]
  },
  {
   "cell_type": "code",
   "execution_count": null,
   "metadata": {
    "collapsed": false
   },
   "outputs": [],
   "source": []
  },
  {
   "cell_type": "code",
   "execution_count": 202,
   "metadata": {
    "collapsed": false
   },
   "outputs": [
    {
     "data": {
      "text/plain": [
       "0.99999999999999978"
      ]
     },
     "execution_count": 202,
     "metadata": {},
     "output_type": "execute_result"
    },
    {
     "data": {
      "image/png": "[encoded data removed]",
      "text/plain": [
       "<matplotlib.figure.Figure at 0xf8ac90>"
      ]
     },
     "metadata": {},
     "output_type": "display_data"
    }
   ],
   "source": [
    "# # Create a population of solutions\n",
    "\n",
    "PopSize=50\n",
    "NumGen=100000\n",
    "\n",
    "Population=[]\n",
    "Fitness=np.empty(PopSize)\n",
    "MAP=-1\n",
    "\n",
    "for i in range(0,PopSize):\n",
    "    Population.append(  [random.randint(0, 1) for i in range(S**2)] )\n",
    "    \n",
    "## calculate their negative log-posterior as fitness\n",
    "for i in range(0,PopSize):\n",
    "    likelihood=Calc_likelihood(Population[i],PrPos,S)\n",
    "    Fitness[i]=-np.log(likelihood)\n",
    "\n",
    "\n",
    "\n",
    "f=0\n",
    "MinFit=np.empty(shape=[1, NumGen])\n",
    "MaxFit=np.empty(shape=[1, NumGen])\n",
    "AverageFit=np.empty(shape=[1, NumGen])\n",
    "\n",
    "\n",
    "\n",
    "#print(Population)\n",
    "#print(Fitness)\n",
    "for n in range(0,NumGen):\n",
    "    \n",
    "    \n",
    "    # SELECT TWO PARENTS RANDOMLY\n",
    "    \n",
    "    index1=random.randint(0,PopSize-1)\n",
    "    index2=random.randint(0,PopSize-1)\n",
    "    \n",
    "    Parent1=Population[index1]\n",
    "    Parent2=Population[index2]\n",
    "\n",
    "    Fitness_Parent1=Fitness[index1]\n",
    "    Fitness_Parent2=Fitness[index2]\n",
    "    \n",
    "    # Do Crossover\n",
    "    \n",
    "    CrossPoint=random.choice(range(0,S**2))\n",
    "    \n",
    "    Child1=np.hstack([Parent1[0:CrossPoint],Parent2[CrossPoint:]])\n",
    "    likelihood_Child1=Calc_likelihood(Child1,PrPos,S)\n",
    "    Fitness_Child1=-np.log(likelihood_Child1)\n",
    "     \n",
    "    \n",
    "    Child2=np.hstack([Parent2[0:CrossPoint],Parent1[CrossPoint:]])\n",
    "    likelihood_Child2=Calc_likelihood(Child2,PrPos,S)\n",
    "    Fitness_Child2=-np.log(likelihood_Child2)\n",
    "    \n",
    "    #print(Fitness_Child1,Fitness_Child2)\n",
    "    \n",
    "    fy=likelihood_Child1 * likelihood_Child2\n",
    "    fx=np.exp(-Fitness_Parent1)* np.exp(-Fitness_Parent2)\n",
    "    \n",
    "    if fx<10**-5:\n",
    "        fx=10**-5 \n",
    "     \n",
    "    rho = min(0, np.log10(fy)-np.log10(fx))\n",
    "    u=np.log10(np.random.uniform()) \n",
    "    #rho = min(1, fy/fx)\n",
    "    #u = np.random.uniform() \n",
    "\n",
    "    if u < rho:  # replace parents with childs\n",
    "\n",
    "        Population[index1]=list(Child1)\n",
    "        Population[index2]=list(Child2)\n",
    "        f=f+1\n",
    "        Fitness[index1]=Fitness_Child1   \n",
    "        Fitness[index2]=Fitness_Child2 \n",
    "        \n",
    "       \n",
    "        #############################################\n",
    "    # Do Mutation\n",
    "    \n",
    "    test=copy.copy(Population[index1])\n",
    "    mutant1=Mutation(test,S)\n",
    "    likelihood_mutant1=Calc_likelihood(mutant1,PrPos,S)\n",
    "         \n",
    "    fy=likelihood_mutant1\n",
    "    fx=np.exp(-Fitness[index1])\n",
    "        \n",
    "    if fx<10**-5:\n",
    "        fx=10**-5 \n",
    "            \n",
    "    rho = min(0, np.log10(fy)-np.log10(fx))\n",
    "    u=np.log10(np.random.uniform())         \n",
    "    #rho = min(1, fy/fx)\n",
    "    #u = np.random.uniform() \n",
    "    if u < rho:  # replace parents with childs\n",
    "        Population[index1]=mutant1  \n",
    "        Fitness[index1]=-np.log(likelihood_mutant1)\n",
    "        f=f+1\n",
    "\n",
    "        \n",
    "    test=copy.copy(Population[index2])\n",
    "    mutant2=Mutation(test,S)\n",
    "    likelihood_mutant2=Calc_likelihood(mutant2,PrPos,S)\n",
    "      \n",
    "    fy=likelihood_mutant2\n",
    "    fx=np.exp(-Fitness[index2])\n",
    "        \n",
    "    if fx<10**-5:\n",
    "        fx=10**-5 \n",
    "            \n",
    "    rho = min(0, np.log10(fy)-np.log10(fx))\n",
    "    u=np.log10(np.random.uniform())         \n",
    "    #rho = min(1, fy/fx)\n",
    "    #u = np.random.uniform()\n",
    "       \n",
    "    if u < rho:  # replace parents with childs\n",
    "        Population[index2]= mutant2  #  \n",
    "        Fitness[index2]=-np.log(likelihood_mutant2)\n",
    "        f=f+1\n",
    "    #print(Population)\n",
    "    #print(Fitness)\n",
    "        \n",
    "    ##################\n",
    "        \n",
    "        \n",
    "    MinFit[0,n]=np.min(Fitness)\n",
    "    if np.exp(-MinFit[0,n]) > MAP:\n",
    "        index=np.argmin(Fitness)\n",
    "        MAP_sample=Population[index]\n",
    "        MAP=np.exp(-MinFit[0,n])\n",
    "    \n",
    "    #MaxFit[0,n]=np.max(Fitness)\n",
    "    AverageFit[0,n]=np.exp(-MinFit[0,n])/IdealPosterior \n",
    "\n",
    "plt.plot(AverageFit[0])\n",
    "plt.xlabel('Generations')\n",
    "plt.ylabel('Best Posterior/Ideal Posterior')\n",
    "np.exp(-np.min(MinFit))/IdealPosterior"
   ]
  },
  {
   "cell_type": "code",
   "execution_count": 193,
   "metadata": {
    "collapsed": false
   },
   "outputs": [
    {
     "data": {
      "text/plain": [
       "816"
      ]
     },
     "execution_count": 193,
     "metadata": {},
     "output_type": "execute_result"
    }
   ],
   "source": [
    "f"
   ]
  },
  {
   "cell_type": "code",
   "execution_count": 203,
   "metadata": {
    "collapsed": false
   },
   "outputs": [
    {
     "data": {
      "image/svg+xml": [
       "<?xml version=\"1.0\" encoding=\"UTF-8\" standalone=\"no\"?>\r\n",
       "<!DOCTYPE svg PUBLIC \"-//W3C//DTD SVG 1.1//EN\"\r\n",
       " \"http://www.w3.org/Graphics/SVG/1.1/DTD/svg11.dtd\">\r\n",
       "<!-- Generated by graphviz version 2.38.0 (20140413.2041)\r\n",
       " -->\r\n",
       "<!-- Title: %3 Pages: 1 -->\r\n",
       "<svg width=\"153pt\" height=\"260pt\"\r\n",
       " viewBox=\"0.00 0.00 153.03 260.00\" xmlns=\"http://www.w3.org/2000/svg\" xmlns:xlink=\"http://www.w3.org/1999/xlink\">\r\n",
       "<g id=\"graph0\" class=\"graph\" transform=\"scale(1 1) rotate(0) translate(4 256)\">\r\n",
       "<title>%3</title>\r\n",
       "<polygon fill=\"white\" stroke=\"none\" points=\"-4,4 -4,-256 149.032,-256 149.032,4 -4,4\"/>\r\n",
       "<!-- t0 -->\r\n",
       "<g id=\"node1\" class=\"node\"><title>t0</title>\r\n",
       "<ellipse fill=\"none\" stroke=\"black\" cx=\"97\" cy=\"-234\" rx=\"27\" ry=\"18\"/>\r\n",
       "<text text-anchor=\"middle\" x=\"97\" y=\"-230.3\" font-family=\"Times New Roman,serif\" font-size=\"14.00\">t0</text>\r\n",
       "</g>\r\n",
       "<!-- t2 -->\r\n",
       "<g id=\"node3\" class=\"node\"><title>t2</title>\r\n",
       "<ellipse fill=\"none\" stroke=\"black\" cx=\"27\" cy=\"-90\" rx=\"27\" ry=\"18\"/>\r\n",
       "<text text-anchor=\"middle\" x=\"27\" y=\"-86.3\" font-family=\"Times New Roman,serif\" font-size=\"14.00\">t2</text>\r\n",
       "</g>\r\n",
       "<!-- t0&#45;&gt;t2 -->\r\n",
       "<g id=\"edge1\" class=\"edge\"><title>t0&#45;&gt;t2</title>\r\n",
       "<path fill=\"none\" stroke=\"black\" d=\"M79.6014,-220.028C70.1637,-209.613 59.5106,-194.399 52,-180 41.5768,-160.017 32.6171,-136.093 27.873,-118.084\"/>\r\n",
       "<polygon fill=\"black\" stroke=\"black\" points=\"31.2582,-117.188 25.5877,-108.239 24.4395,-118.771 31.2582,-117.188\"/>\r\n",
       "</g>\r\n",
       "<!-- t4 -->\r\n",
       "<g id=\"node5\" class=\"node\"><title>t4</title>\r\n",
       "<ellipse fill=\"none\" stroke=\"black\" cx=\"97\" cy=\"-162\" rx=\"27\" ry=\"18\"/>\r\n",
       "<text text-anchor=\"middle\" x=\"97\" y=\"-158.3\" font-family=\"Times New Roman,serif\" font-size=\"14.00\">t4</text>\r\n",
       "</g>\r\n",
       "<!-- t0&#45;&gt;t4 -->\r\n",
       "<g id=\"edge2\" class=\"edge\"><title>t0&#45;&gt;t4</title>\r\n",
       "<path fill=\"none\" stroke=\"black\" d=\"M91.1601,-216.411C90.2975,-208.507 90.0481,-198.852 90.4119,-189.935\"/>\r\n",
       "<polygon fill=\"black\" stroke=\"black\" points=\"93.9033,-190.179 91.1206,-179.956 86.9209,-189.683 93.9033,-190.179\"/>\r\n",
       "</g>\r\n",
       "<!-- t1 -->\r\n",
       "<g id=\"node2\" class=\"node\"><title>t1</title>\r\n",
       "<ellipse fill=\"none\" stroke=\"black\" cx=\"99\" cy=\"-18\" rx=\"27\" ry=\"18\"/>\r\n",
       "<text text-anchor=\"middle\" x=\"99\" y=\"-14.3\" font-family=\"Times New Roman,serif\" font-size=\"14.00\">t1</text>\r\n",
       "</g>\r\n",
       "<!-- t1&#45;&gt;t0 -->\r\n",
       "<g id=\"edge3\" class=\"edge\"><title>t1&#45;&gt;t0</title>\r\n",
       "<path fill=\"none\" stroke=\"black\" d=\"M112.75,-33.9312C120.961,-43.8997 130.619,-57.7531 135,-72 149.111,-117.888 147.747,-134.313 133,-180 129.566,-190.638 123.28,-201.092 116.911,-209.867\"/>\r\n",
       "<polygon fill=\"black\" stroke=\"black\" points=\"113.953,-207.971 110.616,-218.026 119.495,-212.247 113.953,-207.971\"/>\r\n",
       "</g>\r\n",
       "<!-- t2&#45;&gt;t0 -->\r\n",
       "<g id=\"edge4\" class=\"edge\"><title>t2&#45;&gt;t0</title>\r\n",
       "<path fill=\"none\" stroke=\"black\" d=\"M38.1913,-106.586C46.5221,-124.732 57.1487,-155.362 70,-180 74.8356,-189.271 80.9738,-198.879 86.3605,-207.327\"/>\r\n",
       "<polygon fill=\"black\" stroke=\"black\" points=\"83.5167,-209.379 91.8135,-215.968 89.4365,-205.643 83.5167,-209.379\"/>\r\n",
       "</g>\r\n",
       "<!-- t2&#45;&gt;t1 -->\r\n",
       "<g id=\"edge5\" class=\"edge\"><title>t2&#45;&gt;t1</title>\r\n",
       "<path fill=\"none\" stroke=\"black\" d=\"M41.5703,-74.8345C51.7499,-64.9376 65.5239,-51.5462 77.0306,-40.3591\"/>\r\n",
       "<polygon fill=\"black\" stroke=\"black\" points=\"79.4741,-42.865 84.2043,-33.3847 74.5945,-37.8461 79.4741,-42.865\"/>\r\n",
       "</g>\r\n",
       "<!-- t3 -->\r\n",
       "<g id=\"node4\" class=\"node\"><title>t3</title>\r\n",
       "<ellipse fill=\"none\" stroke=\"black\" cx=\"99\" cy=\"-90\" rx=\"27\" ry=\"18\"/>\r\n",
       "<text text-anchor=\"middle\" x=\"99\" y=\"-86.3\" font-family=\"Times New Roman,serif\" font-size=\"14.00\">t3</text>\r\n",
       "</g>\r\n",
       "<!-- t3&#45;&gt;t1 -->\r\n",
       "<g id=\"edge6\" class=\"edge\"><title>t3&#45;&gt;t1</title>\r\n",
       "<path fill=\"none\" stroke=\"black\" d=\"M99,-71.6966C99,-63.9827 99,-54.7125 99,-46.1124\"/>\r\n",
       "<polygon fill=\"black\" stroke=\"black\" points=\"102.5,-46.1043 99,-36.1043 95.5001,-46.1044 102.5,-46.1043\"/>\r\n",
       "</g>\r\n",
       "<!-- t3&#45;&gt;t4 -->\r\n",
       "<g id=\"edge7\" class=\"edge\"><title>t3&#45;&gt;t4</title>\r\n",
       "<path fill=\"none\" stroke=\"black\" d=\"M104.395,-107.956C105.005,-115.827 104.966,-125.374 104.349,-134.187\"/>\r\n",
       "<polygon fill=\"black\" stroke=\"black\" points=\"100.839,-134.109 103.314,-144.411 107.804,-134.815 100.839,-134.109\"/>\r\n",
       "</g>\r\n",
       "<!-- t4&#45;&gt;t0 -->\r\n",
       "<g id=\"edge8\" class=\"edge\"><title>t4&#45;&gt;t0</title>\r\n",
       "<path fill=\"none\" stroke=\"black\" d=\"M102.879,-179.956C103.714,-187.827 103.948,-197.374 103.583,-206.187\"/>\r\n",
       "<polygon fill=\"black\" stroke=\"black\" points=\"100.074,-206.184 102.84,-216.411 107.056,-206.691 100.074,-206.184\"/>\r\n",
       "</g>\r\n",
       "<!-- t4&#45;&gt;t2 -->\r\n",
       "<g id=\"edge9\" class=\"edge\"><title>t4&#45;&gt;t2</title>\r\n",
       "<path fill=\"none\" stroke=\"black\" d=\"M82.496,-146.496C72.7348,-136.735 59.6897,-123.69 48.6999,-112.7\"/>\r\n",
       "<polygon fill=\"black\" stroke=\"black\" points=\"51.0314,-110.082 41.4855,-105.485 46.0817,-115.031 51.0314,-110.082\"/>\r\n",
       "</g>\r\n",
       "<!-- t4&#45;&gt;t3 -->\r\n",
       "<g id=\"edge10\" class=\"edge\"><title>t4&#45;&gt;t3</title>\r\n",
       "<path fill=\"none\" stroke=\"black\" d=\"M91.6059,-144.055C90.9992,-136.231 91.0329,-126.748 91.6394,-117.977\"/>\r\n",
       "<polygon fill=\"black\" stroke=\"black\" points=\"95.1457,-118.088 92.6587,-107.789 88.1805,-117.391 95.1457,-118.088\"/>\r\n",
       "</g>\r\n",
       "</g>\r\n",
       "</svg>\r\n"
      ],
      "text/plain": [
       "<graphviz.dot.Digraph at 0x714ea10>"
      ]
     },
     "execution_count": 203,
     "metadata": {},
     "output_type": "execute_result"
    }
   ],
   "source": [
    "sketch(ListOfEntities,np.reshape(IdealNetwork,[S,S]))\n"
   ]
  },
  {
   "cell_type": "code",
   "execution_count": 204,
   "metadata": {
    "collapsed": false
   },
   "outputs": [
    {
     "data": {
      "image/svg+xml": [
       "<?xml version=\"1.0\" encoding=\"UTF-8\" standalone=\"no\"?>\r\n",
       "<!DOCTYPE svg PUBLIC \"-//W3C//DTD SVG 1.1//EN\"\r\n",
       " \"http://www.w3.org/Graphics/SVG/1.1/DTD/svg11.dtd\">\r\n",
       "<!-- Generated by graphviz version 2.38.0 (20140413.2041)\r\n",
       " -->\r\n",
       "<!-- Title: %3 Pages: 1 -->\r\n",
       "<svg width=\"153pt\" height=\"260pt\"\r\n",
       " viewBox=\"0.00 0.00 153.03 260.00\" xmlns=\"http://www.w3.org/2000/svg\" xmlns:xlink=\"http://www.w3.org/1999/xlink\">\r\n",
       "<g id=\"graph0\" class=\"graph\" transform=\"scale(1 1) rotate(0) translate(4 256)\">\r\n",
       "<title>%3</title>\r\n",
       "<polygon fill=\"white\" stroke=\"none\" points=\"-4,4 -4,-256 149.032,-256 149.032,4 -4,4\"/>\r\n",
       "<!-- t0 -->\r\n",
       "<g id=\"node1\" class=\"node\"><title>t0</title>\r\n",
       "<ellipse fill=\"none\" stroke=\"black\" cx=\"97\" cy=\"-234\" rx=\"27\" ry=\"18\"/>\r\n",
       "<text text-anchor=\"middle\" x=\"97\" y=\"-230.3\" font-family=\"Times New Roman,serif\" font-size=\"14.00\">t0</text>\r\n",
       "</g>\r\n",
       "<!-- t2 -->\r\n",
       "<g id=\"node3\" class=\"node\"><title>t2</title>\r\n",
       "<ellipse fill=\"none\" stroke=\"black\" cx=\"27\" cy=\"-90\" rx=\"27\" ry=\"18\"/>\r\n",
       "<text text-anchor=\"middle\" x=\"27\" y=\"-86.3\" font-family=\"Times New Roman,serif\" font-size=\"14.00\">t2</text>\r\n",
       "</g>\r\n",
       "<!-- t0&#45;&gt;t2 -->\r\n",
       "<g id=\"edge1\" class=\"edge\"><title>t0&#45;&gt;t2</title>\r\n",
       "<path fill=\"none\" stroke=\"black\" d=\"M79.6014,-220.028C70.1637,-209.613 59.5106,-194.399 52,-180 41.5768,-160.017 32.6171,-136.093 27.873,-118.084\"/>\r\n",
       "<polygon fill=\"black\" stroke=\"black\" points=\"31.2582,-117.188 25.5877,-108.239 24.4395,-118.771 31.2582,-117.188\"/>\r\n",
       "</g>\r\n",
       "<!-- t4 -->\r\n",
       "<g id=\"node5\" class=\"node\"><title>t4</title>\r\n",
       "<ellipse fill=\"none\" stroke=\"black\" cx=\"97\" cy=\"-162\" rx=\"27\" ry=\"18\"/>\r\n",
       "<text text-anchor=\"middle\" x=\"97\" y=\"-158.3\" font-family=\"Times New Roman,serif\" font-size=\"14.00\">t4</text>\r\n",
       "</g>\r\n",
       "<!-- t0&#45;&gt;t4 -->\r\n",
       "<g id=\"edge2\" class=\"edge\"><title>t0&#45;&gt;t4</title>\r\n",
       "<path fill=\"none\" stroke=\"black\" d=\"M91.1601,-216.411C90.2975,-208.507 90.0481,-198.852 90.4119,-189.935\"/>\r\n",
       "<polygon fill=\"black\" stroke=\"black\" points=\"93.9033,-190.179 91.1206,-179.956 86.9209,-189.683 93.9033,-190.179\"/>\r\n",
       "</g>\r\n",
       "<!-- t1 -->\r\n",
       "<g id=\"node2\" class=\"node\"><title>t1</title>\r\n",
       "<ellipse fill=\"none\" stroke=\"black\" cx=\"99\" cy=\"-18\" rx=\"27\" ry=\"18\"/>\r\n",
       "<text text-anchor=\"middle\" x=\"99\" y=\"-14.3\" font-family=\"Times New Roman,serif\" font-size=\"14.00\">t1</text>\r\n",
       "</g>\r\n",
       "<!-- t1&#45;&gt;t0 -->\r\n",
       "<g id=\"edge3\" class=\"edge\"><title>t1&#45;&gt;t0</title>\r\n",
       "<path fill=\"none\" stroke=\"black\" d=\"M112.75,-33.9312C120.961,-43.8997 130.619,-57.7531 135,-72 149.111,-117.888 147.747,-134.313 133,-180 129.566,-190.638 123.28,-201.092 116.911,-209.867\"/>\r\n",
       "<polygon fill=\"black\" stroke=\"black\" points=\"113.953,-207.971 110.616,-218.026 119.495,-212.247 113.953,-207.971\"/>\r\n",
       "</g>\r\n",
       "<!-- t2&#45;&gt;t0 -->\r\n",
       "<g id=\"edge4\" class=\"edge\"><title>t2&#45;&gt;t0</title>\r\n",
       "<path fill=\"none\" stroke=\"black\" d=\"M38.1913,-106.586C46.5221,-124.732 57.1487,-155.362 70,-180 74.8356,-189.271 80.9738,-198.879 86.3605,-207.327\"/>\r\n",
       "<polygon fill=\"black\" stroke=\"black\" points=\"83.5167,-209.379 91.8135,-215.968 89.4365,-205.643 83.5167,-209.379\"/>\r\n",
       "</g>\r\n",
       "<!-- t2&#45;&gt;t1 -->\r\n",
       "<g id=\"edge5\" class=\"edge\"><title>t2&#45;&gt;t1</title>\r\n",
       "<path fill=\"none\" stroke=\"black\" d=\"M41.5703,-74.8345C51.7499,-64.9376 65.5239,-51.5462 77.0306,-40.3591\"/>\r\n",
       "<polygon fill=\"black\" stroke=\"black\" points=\"79.4741,-42.865 84.2043,-33.3847 74.5945,-37.8461 79.4741,-42.865\"/>\r\n",
       "</g>\r\n",
       "<!-- t3 -->\r\n",
       "<g id=\"node4\" class=\"node\"><title>t3</title>\r\n",
       "<ellipse fill=\"none\" stroke=\"black\" cx=\"99\" cy=\"-90\" rx=\"27\" ry=\"18\"/>\r\n",
       "<text text-anchor=\"middle\" x=\"99\" y=\"-86.3\" font-family=\"Times New Roman,serif\" font-size=\"14.00\">t3</text>\r\n",
       "</g>\r\n",
       "<!-- t3&#45;&gt;t1 -->\r\n",
       "<g id=\"edge6\" class=\"edge\"><title>t3&#45;&gt;t1</title>\r\n",
       "<path fill=\"none\" stroke=\"black\" d=\"M99,-71.6966C99,-63.9827 99,-54.7125 99,-46.1124\"/>\r\n",
       "<polygon fill=\"black\" stroke=\"black\" points=\"102.5,-46.1043 99,-36.1043 95.5001,-46.1044 102.5,-46.1043\"/>\r\n",
       "</g>\r\n",
       "<!-- t3&#45;&gt;t4 -->\r\n",
       "<g id=\"edge7\" class=\"edge\"><title>t3&#45;&gt;t4</title>\r\n",
       "<path fill=\"none\" stroke=\"black\" d=\"M104.395,-107.956C105.005,-115.827 104.966,-125.374 104.349,-134.187\"/>\r\n",
       "<polygon fill=\"black\" stroke=\"black\" points=\"100.839,-134.109 103.314,-144.411 107.804,-134.815 100.839,-134.109\"/>\r\n",
       "</g>\r\n",
       "<!-- t4&#45;&gt;t0 -->\r\n",
       "<g id=\"edge8\" class=\"edge\"><title>t4&#45;&gt;t0</title>\r\n",
       "<path fill=\"none\" stroke=\"black\" d=\"M102.879,-179.956C103.714,-187.827 103.948,-197.374 103.583,-206.187\"/>\r\n",
       "<polygon fill=\"black\" stroke=\"black\" points=\"100.074,-206.184 102.84,-216.411 107.056,-206.691 100.074,-206.184\"/>\r\n",
       "</g>\r\n",
       "<!-- t4&#45;&gt;t2 -->\r\n",
       "<g id=\"edge9\" class=\"edge\"><title>t4&#45;&gt;t2</title>\r\n",
       "<path fill=\"none\" stroke=\"black\" d=\"M82.496,-146.496C72.7348,-136.735 59.6897,-123.69 48.6999,-112.7\"/>\r\n",
       "<polygon fill=\"black\" stroke=\"black\" points=\"51.0314,-110.082 41.4855,-105.485 46.0817,-115.031 51.0314,-110.082\"/>\r\n",
       "</g>\r\n",
       "<!-- t4&#45;&gt;t3 -->\r\n",
       "<g id=\"edge10\" class=\"edge\"><title>t4&#45;&gt;t3</title>\r\n",
       "<path fill=\"none\" stroke=\"black\" d=\"M91.6059,-144.055C90.9992,-136.231 91.0329,-126.748 91.6394,-117.977\"/>\r\n",
       "<polygon fill=\"black\" stroke=\"black\" points=\"95.1457,-118.088 92.6587,-107.789 88.1805,-117.391 95.1457,-118.088\"/>\r\n",
       "</g>\r\n",
       "</g>\r\n",
       "</svg>\r\n"
      ],
      "text/plain": [
       "<graphviz.dot.Digraph at 0x1a72e10>"
      ]
     },
     "execution_count": 204,
     "metadata": {},
     "output_type": "execute_result"
    }
   ],
   "source": [
    "sketch(ListOfEntities,np.reshape(MAP_sample,[S,S]))"
   ]
  },
  {
   "cell_type": "code",
   "execution_count": 165,
   "metadata": {
    "collapsed": false
   },
   "outputs": [
    {
     "data": {
      "text/plain": [
       "7.5728592443407003e-10"
      ]
     },
     "execution_count": 165,
     "metadata": {},
     "output_type": "execute_result"
    }
   ],
   "source": [
    "Calc_likelihood(MAP_sample,PrPos,S)"
   ]
  },
  {
   "cell_type": "code",
   "execution_count": 166,
   "metadata": {
    "collapsed": false
   },
   "outputs": [
    {
     "data": {
      "text/plain": [
       "0.0040199887178406111"
      ]
     },
     "execution_count": 166,
     "metadata": {},
     "output_type": "execute_result"
    }
   ],
   "source": [
    "IdealPosterior"
   ]
  },
  {
   "cell_type": "code",
   "execution_count": 167,
   "metadata": {
    "collapsed": false
   },
   "outputs": [
    {
     "data": {
      "text/plain": [
       "9.2521697609808426e-109"
      ]
     },
     "execution_count": 167,
     "metadata": {},
     "output_type": "execute_result"
    }
   ],
   "source": [
    "np.exp(-np.min(MinFit))"
   ]
  },
  {
   "cell_type": "markdown",
   "metadata": {},
   "source": [
    "##########"
   ]
  },
  {
   "cell_type": "code",
   "execution_count": 199,
   "metadata": {
    "collapsed": false
   },
   "outputs": [
    {
     "data": {
      "text/plain": [
       "0.11111111111111109"
      ]
     },
     "execution_count": 199,
     "metadata": {},
     "output_type": "execute_result"
    }
   ],
   "source": [
    "niters=250000\n",
    "\n",
    "naccept = 0\n",
    "Adj = [random.randint(0, 1) for i in range(S**2)]\n",
    "\n",
    "MAP=-1\n",
    "\n",
    "for i in range(0,niters):\n",
    "        #if i % 10000==0:\n",
    "            #print('iteration= ',i)\n",
    "    #Adj_reshaped=np.reshape(Adj,[S,S])\n",
    "    likelihood=Calc_likelihood(Adj,PrPos,S)\n",
    "    prior=1 #Calc_prior(Adj_reshaped,S)\n",
    "    fx=prior * likelihood\n",
    "   \n",
    "\n",
    "    Adj_p=Mutation(Adj,S)\n",
    "    likelihood=Calc_likelihood(Adj_p,PrPos,S)\n",
    "    prior=1 #Calc_prior(Adj_p_reshaped,S)\n",
    "    fy=prior * likelihood \n",
    "    \n",
    "        #rho = min(1, fy/fx)\n",
    "\n",
    "    if fx<10**-5:\n",
    "        fx=10**-5 \n",
    "    rho = min(0, np.log10(fy)-np.log10(fx))\n",
    "        #u = np.random.uniform()\n",
    "    u=np.log10(np.random.uniform())  \n",
    "    if u < rho:\n",
    "        naccept += 1\n",
    "        Adj = Adj_p\n",
    "\n",
    "        if fy>MAP:\n",
    "            MAP=fy\n",
    "            MAP_sample=copy.copy(Adj_p) #Adj_p\n",
    "    \n",
    "    #return MAP, MAP_sample#, NetworksDict\n",
    "\n",
    "    \n",
    "MAP/IdealPosterior\n"
   ]
  },
  {
   "cell_type": "code",
   "execution_count": 71,
   "metadata": {
    "collapsed": false
   },
   "outputs": [
    {
     "data": {
      "text/plain": [
       "9"
      ]
     },
     "execution_count": 71,
     "metadata": {},
     "output_type": "execute_result"
    }
   ],
   "source": [
    "naccept"
   ]
  },
  {
   "cell_type": "code",
   "execution_count": 79,
   "metadata": {
    "collapsed": false
   },
   "outputs": [
    {
     "data": {
      "text/plain": [
       "9.7524892017434457"
      ]
     },
     "execution_count": 79,
     "metadata": {},
     "output_type": "execute_result"
    }
   ],
   "source": [
    "min(Fitness)"
   ]
  },
  {
   "cell_type": "code",
   "execution_count": 80,
   "metadata": {
    "collapsed": false
   },
   "outputs": [
    {
     "data": {
      "text/plain": [
       "34"
      ]
     },
     "execution_count": 80,
     "metadata": {},
     "output_type": "execute_result"
    }
   ],
   "source": [
    "np.argmin(Fitness)"
   ]
  },
  {
   "cell_type": "code",
   "execution_count": 81,
   "metadata": {
    "collapsed": false
   },
   "outputs": [
    {
     "data": {
      "text/plain": [
       "9.7524892017434457"
      ]
     },
     "execution_count": 81,
     "metadata": {},
     "output_type": "execute_result"
    }
   ],
   "source": [
    "Fitness[34]"
   ]
  },
  {
   "cell_type": "code",
   "execution_count": 115,
   "metadata": {
    "collapsed": false
   },
   "outputs": [
    {
     "data": {
      "text/plain": [
       "9773"
      ]
     },
     "execution_count": 115,
     "metadata": {},
     "output_type": "execute_result"
    }
   ],
   "source": [
    "np.argmin(MinFit)"
   ]
  },
  {
   "cell_type": "code",
   "execution_count": 178,
   "metadata": {
    "collapsed": false
   },
   "outputs": [
    {
     "data": {
      "text/plain": [
       "<matplotlib.text.Text at 0xfc9d70>"
      ]
     },
     "execution_count": 178,
     "metadata": {},
     "output_type": "execute_result"
    },
    {
     "data": {
      "image/png": "[encoded data removed]",
      "text/plain": [
       "<matplotlib.figure.Figure at 0x1bd0cf0>"
      ]
     },
     "metadata": {},
     "output_type": "display_data"
    }
   ],
   "source": [
    "plt.plot(AverageFit[0])\n"
   ]
  },
  {
   "cell_type": "code",
   "execution_count": 3,
   "metadata": {
    "collapsed": false
   },
   "outputs": [
    {
     "data": {
      "text/plain": [
       "9.5367431640625e-06"
      ]
     },
     "execution_count": 3,
     "metadata": {},
     "output_type": "execute_result"
    }
   ],
   "source": [
    "10/(2**20)"
   ]
  },
  {
   "cell_type": "code",
   "execution_count": null,
   "metadata": {
    "collapsed": true
   },
   "outputs": [],
   "source": []
  }
 ],
 "metadata": {
  "kernelspec": {
   "display_name": "Python 3",
   "language": "python",
   "name": "python3"
  },
  "language_info": {
   "codemirror_mode": {
    "name": "ipython",
    "version": 3
   },
   "file_extension": ".py",
   "mimetype": "text/x-python",
   "name": "python",
   "nbconvert_exporter": "python",
   "pygments_lexer": "ipython3",
   "version": "3.5.2"
  }
 },
 "nbformat": 4,
 "nbformat_minor": 0
}
