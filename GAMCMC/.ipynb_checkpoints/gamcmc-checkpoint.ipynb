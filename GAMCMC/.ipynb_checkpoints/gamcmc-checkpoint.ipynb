{
 "cells": [
  {
   "cell_type": "code",
   "execution_count": 307,
   "metadata": {
    "collapsed": false
   },
   "outputs": [
    {
     "name": "stdout",
     "output_type": "stream",
     "text": [
      "The autoreload extension is already loaded. To reload it, use:\n",
      "  %reload_ext autoreload\n"
     ]
    }
   ],
   "source": [
    "%load_ext autoreload\n",
    "%autoreload 2\n",
    "\n",
    "import numpy as np\n",
    "import random\n",
    "import matplotlib.pyplot as plt\n",
    "%matplotlib inline\n",
    "\n",
    "from UtilsGA import *\n",
    "from UtilsMCMC import *"
   ]
  },
  {
   "cell_type": "code",
   "execution_count": 593,
   "metadata": {
    "collapsed": false
   },
   "outputs": [],
   "source": [
    "# Create knoweldgebase\n",
    "\n",
    "S=3\n",
    "tau=0.9\n",
    "eps=0.1\n",
    "\n",
    "ListOfEntities,ListOfEvents,PrPos=CreateKB(S)\n",
    "PrPos[PrPos>=0.5]=tau   # randomly set some of the probabilities equal to tau\n",
    "PrPos[PrPos<0.5]=eps    # set the remaining probabilities as eps\n",
    "    \n",
    "Ideal_probabilities=np.reshape(PrPos,[1,S*S])\n",
    "  # we expect that the ideal network is the one with links of probilities of \\tau\n",
    "IdealNetwork=np.array(Ideal_probabilities>=tau).astype(int)\n",
    "IdealNetwork=Diag_zero(IdealNetwork[0],S)\n",
    "IdealPosterior=Calc_likelihood(np.reshape(IdealNetwork,[S,S]),PrPos)\n"
   ]
  },
  {
   "cell_type": "code",
   "execution_count": 670,
   "metadata": {
    "collapsed": false
   },
   "outputs": [],
   "source": [
    "# # Create a population of solutions\n",
    "\n",
    "PopSize=4\n",
    "NumGen=1\n",
    "\n",
    "Population=[]\n",
    "Fitness=np.empty(PopSize)\n",
    "\n",
    "for i in range(0,PopSize):\n",
    "    Population.append(  [random.randint(0, 1) for i in range(S**2)] )\n",
    "    \n",
    "## calculate their negative log-posterior as fitness\n",
    "for i in range(0,PopSize):\n",
    "    Adj = Diag_zero(Population[i],S)\n",
    "    Adj_reshaped=np.reshape(Adj,[S,S])\n",
    "    likelihood=Calc_likelihood(Adj_reshaped,PrPos)\n",
    "    Fitness[i]=-np.log(likelihood)"
   ]
  },
  {
   "cell_type": "code",
   "execution_count": 673,
   "metadata": {
    "collapsed": false
   },
   "outputs": [
    {
     "name": "stdout",
     "output_type": "stream",
     "text": [
      "[[0, 0, 0, 0, 0, 1, 1, 0, 0], [0, 1, 0, 0, 0, 0, 1, 0, 0], [0, 1, 1, 1, 0, 0, 1, 1, 0], [0, 1, 0, 1, 0, 0, 0, 0, 0]]\n",
      "[ 5.02661225  5.02661225  7.22383683  5.02661225]\n",
      "YES0 0 3\n",
      "[[0, 0, 0, 0, 0, 0, 0, 0, 0], [0, 1, 0, 0, 0, 0, 1, 0, 0], [0, 1, 1, 1, 0, 0, 1, 1, 0], [0, 1, 0, 1, 0, 1, 1, 0, 0]]\n",
      "[ 9.4210614   5.02661225  7.22383683  0.63216309]\n",
      "YES1 0\n",
      "9.42106140329\n",
      "[[0, 0, 0, 0, 0, 0, 0, 0, 0], [0, 1, 0, 0, 0, 0, 1, 0, 0], [0, 1, 1, 1, 0, 0, 1, 1, 0], [0, 1, 0, 1, 0, 1, 1, 0, 0]]\n",
      "[ 9.4210614   5.02661225  7.22383683  0.63216309]\n",
      "[[0, 0, 0, 0, 0, 0, 0, 0, 0], [0, 1, 0, 0, 0, 0, 1, 0, 0], [0, 1, 1, 1, 0, 0, 1, 1, 0], [0, 1, 0, 0, 0, 1, 1, 0, 0]]\n",
      "[ 9.4210614   5.02661225  7.22383683  0.63216309]\n"
     ]
    },
    {
     "data": {
      "text/plain": [
       "[<matplotlib.lines.Line2D at 0x1259025c0>]"
      ]
     },
     "execution_count": 673,
     "metadata": {},
     "output_type": "execute_result"
    },
    {
     "data": {
      "image/png": "[encoded data removed]",
      "text/plain": [
       "<matplotlib.figure.Figure at 0x11c9d1518>"
      ]
     },
     "metadata": {},
     "output_type": "display_data"
    }
   ],
   "source": [
    "MinFit=np.empty(shape=[1, NumGen])\n",
    "MaxFit=np.empty(shape=[1, NumGen])\n",
    "AverageFit=np.empty(shape=[1, NumGen])\n",
    "\n",
    "MAP=-1\n",
    "\n",
    "print(Population)\n",
    "print(Fitness)\n",
    "for n in range(0,NumGen):\n",
    "    \n",
    "    \n",
    "    # SELECT TWO PARENTS RANDOMLY\n",
    "    \n",
    "    index1=random.randint(0,PopSize-1)\n",
    "    index2=random.randint(0,PopSize-1)\n",
    "    \n",
    "    Parent1=Population[index1]\n",
    "    Parent2=Population[index2]\n",
    "\n",
    "    Fitness_Parent1=Fitness[index1]\n",
    "    Fitness_Parent2=Fitness[index2]\n",
    "    \n",
    "    # Do Crossover\n",
    "    \n",
    "    CrossPoint=random.choice(range(0,S**2))\n",
    "    \n",
    "    Child1=np.hstack([Parent1[0:crosspoint],Parent2[crosspoint:]])\n",
    "    Adj = Diag_zero(Child1,S)\n",
    "    Adj_reshaped=np.reshape(Adj,[S,S])\n",
    "    likelihood_Child1=Calc_likelihood(Adj_reshaped,PrPos)\n",
    "    Fitness_Child1=-np.log(likelihood_Child1)\n",
    "     \n",
    "    \n",
    "    Child2=np.hstack([Parent2[0:crosspoint],Parent1[crosspoint:]])\n",
    "    Adj = Diag_zero(Child2,S)\n",
    "    Adj_reshaped=np.reshape(Adj,[S,S])\n",
    "    likelihood_Child2=Calc_likelihood(Adj_reshaped,PrPos)\n",
    "    Fitness_Child2=-np.log(likelihood_Child2)\n",
    "    \n",
    "    #print(Fitness_Child1,Fitness_Child2)\n",
    "    \n",
    "    fy=likelihood_Child1 * likelihood_Child2\n",
    "    fx=np.exp(-Fitness_Parent1)* np.exp(-Fitness_Parent2)\n",
    "    \n",
    "    if fx<10**-5:\n",
    "        fx=10**-5 \n",
    "            \n",
    "    rho = min(1, fy/fx)\n",
    "    u = np.random.uniform() \n",
    "    \n",
    "    if u < rho:  # replace parents with childs\n",
    "        print('YES0',index1,index2)\n",
    "        Population[index1]=list(Child1)\n",
    "        Population[index2]=list(Child2)\n",
    "        \n",
    "        Fitness[index1]=Fitness_Child1   \n",
    "        Fitness[index2]=Fitness_Child2 \n",
    "        \n",
    "    print(Population)\n",
    "    print(Fitness)\n",
    "        \n",
    "        #############################################\n",
    "    # Do Mutation\n",
    "    \n",
    "    #index1=random.randint(0,PopSize-1)\n",
    "    mutant1=Mutation(Population[index1],S)\n",
    "    Adj = Diag_zero(mutant1,S)\n",
    "    Adj_reshaped=np.reshape(Adj,[S,S])\n",
    "    likelihood_mutant1=Calc_likelihood(Adj_reshaped,PrPos)\n",
    "         \n",
    "    fy=likelihood_mutant1\n",
    "    fx=np.exp(-Fitness[index1])\n",
    "        \n",
    "    if fx<10**-5:\n",
    "        fx=10**-5 \n",
    "            \n",
    "    rho = min(1, fy/fx)\n",
    "    u = np.random.uniform() \n",
    "    \n",
    "    if u < rho:  # replace parents with childs\n",
    "        print('YES1',index1)\n",
    "        print(-np.log(likelihood_mutant1)) \n",
    "        Population[index1]=mutant1\n",
    "        Fitness[index1]=-np.log(likelihood_mutant1)\n",
    "        \n",
    "    print(Population)\n",
    "    print(Fitness)\n",
    "        \n",
    "\n",
    "    mutant2=Mutation(Population[index2],S)\n",
    "    Adj = Diag_zero(mutant2,S)\n",
    "    Adj_reshaped=np.reshape(Adj,[S,S])\n",
    "    likelihood_mutant2=Calc_likelihood(Adj_reshaped,PrPos)\n",
    "      \n",
    "    fy=likelihood_mutant2\n",
    "    fx=np.exp(-Fitness[index2])\n",
    "        \n",
    "    if fx<10**-5:\n",
    "        fx=10**-5 \n",
    "            \n",
    "    rho = min(1, fy/fx)\n",
    "    u = np.random.uniform() \n",
    "    \n",
    "    if u < rho:  # replace parents with childs\n",
    "        print('YES2',index2)\n",
    "        print(-np.log(likelihood_mutant2))\n",
    "        Population[index2]=mutant2\n",
    "        Fitness[index2]=-np.log(likelihood_mutant2)\n",
    "         \n",
    "    print(Population)\n",
    "    print(Fitness)\n",
    "        \n",
    "    ##################\n",
    "        \n",
    "        \n",
    "    MinFit[0,n]=np.min(Fitness)\n",
    "    MaxFit[0,n]=np.max(Fitness)\n",
    "    AverageFit[0,n]=np.average(Fitness)\n",
    "\n",
    "plt.plot(MinFit[0])"
   ]
  },
  {
   "cell_type": "code",
   "execution_count": 674,
   "metadata": {
    "collapsed": false
   },
   "outputs": [
    {
     "data": {
      "text/plain": [
       "array([ True,  True,  True, False], dtype=bool)"
      ]
     },
     "execution_count": 674,
     "metadata": {},
     "output_type": "execute_result"
    }
   ],
   "source": [
    "Fitness1=np.empty(PopSize)\n",
    "for i in range(0,PopSize):\n",
    "    Adj = Diag_zero(Population[i],S)\n",
    "    Adj_reshaped=np.reshape(Adj,[S,S])\n",
    "    likelihood=Calc_likelihood(Adj_reshaped,PrPos)\n",
    "    Fitness1[i]=-np.log(likelihood)\n",
    "\n",
    "Fitness==Fitness1"
   ]
  },
  {
   "cell_type": "code",
   "execution_count": 557,
   "metadata": {
    "collapsed": false
   },
   "outputs": [
    {
     "data": {
      "text/plain": [
       "0.63216309394695747"
      ]
     },
     "execution_count": 557,
     "metadata": {},
     "output_type": "execute_result"
    }
   ],
   "source": [
    "-np.log(IdealPosterior)"
   ]
  },
  {
   "cell_type": "code",
   "execution_count": 558,
   "metadata": {
    "collapsed": false
   },
   "outputs": [
    {
     "data": {
      "text/plain": [
       "1.0"
      ]
     },
     "execution_count": 558,
     "metadata": {},
     "output_type": "execute_result"
    }
   ],
   "source": [
    "np.exp(-np.min(MinFit))/IdealPosterior"
   ]
  },
  {
   "cell_type": "code",
   "execution_count": 655,
   "metadata": {
    "collapsed": false
   },
   "outputs": [
    {
     "data": {
      "text/plain": [
       "[[0, 1, 0, 1, 0, 1, 1, 1, 0],\n",
       " [0, 0, 1, 1, 0, 1, 0, 1, 0],\n",
       " [0, 1, 0, 0, 0, 0, 0, 0, 0],\n",
       " [0, 0, 0, 0, 0, 1, 0, 0, 0]]"
      ]
     },
     "execution_count": 655,
     "metadata": {},
     "output_type": "execute_result"
    }
   ],
   "source": [
    "Population"
   ]
  },
  {
   "cell_type": "code",
   "execution_count": 653,
   "metadata": {
    "collapsed": false
   },
   "outputs": [
    {
     "data": {
      "text/plain": [
       "array([ 2.82938767,  9.4210614 ,  7.22383683,  7.22383683])"
      ]
     },
     "execution_count": 653,
     "metadata": {},
     "output_type": "execute_result"
    }
   ],
   "source": [
    "Fitness1"
   ]
  },
  {
   "cell_type": "code",
   "execution_count": 654,
   "metadata": {
    "collapsed": false
   },
   "outputs": [
    {
     "data": {
      "text/plain": [
       "array([ 2.82938767,  7.22383683,  7.22383683,  7.22383683])"
      ]
     },
     "execution_count": 654,
     "metadata": {},
     "output_type": "execute_result"
    }
   ],
   "source": [
    "Fitness"
   ]
  },
  {
   "cell_type": "code",
   "execution_count": 469,
   "metadata": {
    "collapsed": false
   },
   "outputs": [
    {
     "data": {
      "text/plain": [
       "1"
      ]
     },
     "execution_count": 469,
     "metadata": {},
     "output_type": "execute_result"
    }
   ],
   "source": [
    "index1"
   ]
  },
  {
   "cell_type": "code",
   "execution_count": 480,
   "metadata": {
    "collapsed": false
   },
   "outputs": [
    {
     "data": {
      "text/plain": [
       "0.012345679012345675"
      ]
     },
     "execution_count": 480,
     "metadata": {},
     "output_type": "execute_result"
    }
   ],
   "source": [
    "index2"
   ]
  },
  {
   "cell_type": "code",
   "execution_count": null,
   "metadata": {
    "collapsed": true
   },
   "outputs": [],
   "source": [
    "sketch(ListOfEntities,np.reshape(IdealNetwork,[S,S]))\n",
    "sketch(ListOfEntities,np.reshape(Population[43],[S,S]))"
   ]
  },
  {
   "cell_type": "code",
   "execution_count": 651,
   "metadata": {
    "collapsed": false
   },
   "outputs": [
    {
     "data": {
      "text/plain": [
       "5.0266122486193963"
      ]
     },
     "execution_count": 651,
     "metadata": {},
     "output_type": "execute_result"
    }
   ],
   "source": [
    "-np.log(Calc_likelihood(np.reshape([0, 1, 1, 1, 0, 1, 0, 0, 0],[S,S]),PrPos))"
   ]
  },
  {
   "cell_type": "code",
   "execution_count": 652,
   "metadata": {
    "collapsed": false
   },
   "outputs": [
    {
     "data": {
      "text/plain": [
       "7.2238368259556163"
      ]
     },
     "execution_count": 652,
     "metadata": {},
     "output_type": "execute_result"
    }
   ],
   "source": [
    "-np.log(Calc_likelihood(np.reshape([0, 1, 1, 1, 0, 1, 0, 1, 0],[S,S]),PrPos))"
   ]
  },
  {
   "cell_type": "code",
   "execution_count": null,
   "metadata": {
    "collapsed": true
   },
   "outputs": [],
   "source": []
  }
 ],
 "metadata": {
  "kernelspec": {
   "display_name": "Python 3",
   "language": "python",
   "name": "python3"
  },
  "language_info": {
   "codemirror_mode": {
    "name": "ipython",
    "version": 3
   },
   "file_extension": ".py",
   "mimetype": "text/x-python",
   "name": "python",
   "nbconvert_exporter": "python",
   "pygments_lexer": "ipython3",
   "version": "3.5.1"
  }
 },
 "nbformat": 4,
 "nbformat_minor": 0
}
